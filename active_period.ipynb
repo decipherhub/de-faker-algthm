{
 "cells": [
  {
   "cell_type": "code",
   "execution_count": 2,
   "metadata": {},
   "outputs": [],
   "source": [
    "import pandas as pd\n",
    "import matplotlib.pyplot as plt\n",
    "import numpy\n",
    "from datetime import datetime"
   ]
  },
  {
   "cell_type": "code",
   "execution_count": 7,
   "metadata": {},
   "outputs": [
    {
     "name": "stdout",
     "output_type": "stream",
     "text": [
      "0\n",
      "1\n",
      "2\n",
      "3\n",
      "4\n",
      "5\n",
      "6\n",
      "7\n",
      "8\n",
      "9\n",
      "10\n",
      "11\n",
      "12\n",
      "13\n",
      "14\n",
      "15\n",
      "16\n",
      "17\n",
      "18\n",
      "19\n",
      "20\n",
      "21\n",
      "22\n",
      "23\n",
      "24\n",
      "25\n",
      "26\n",
      "27\n",
      "28\n",
      "29\n",
      "30\n"
     ]
    }
   ],
   "source": [
    "contract_address = '0x2a0c0dbecc7e4d658f48e01e3fa353f44050c208'\n",
    "\n",
    "chunkSize = 1000000\n",
    "chunkNum = 50\n",
    "\n",
    "transactions_chunk = pd.read_csv('../../transactions.csv',sep='\\s+|\"',engine='python',chunksize=chunkSize,skiprows=1,names=['first_Na','id','hash','nonce','block_hash','block_number','transaction_index','from_address','to_address','value','gas','gas_price','input','block_timestamp','Last_Na'],usecols=range(1,14))\n",
    "date_list = []\n",
    "active_accounts = pd.read_csv('../../active_wallets.csv',sep=':|\\s+|\"',engine='python',names=['fist_Na','id','from_address','to_address','contract_type','contract_name','tx_count','last_Na'],skiprows=1,usecols=range(1,7))\n",
    "active_accounts_list = pd.Series([[]]*len(active_accounts.index), index=active_accounts['from_address'])\n",
    "\n",
    "i=0\n",
    "for chunk in transactions_chunk:\n",
    "    print(i)\n",
    "    if(i>=chunkNum):\n",
    "        break\n",
    "    i+=1\n",
    "    \n",
    "\n",
    "    for index, row in chunk.loc[chunk['to_address'] == contract_address, ['from_address', 'block_timestamp']].iterrows():\n",
    "#        print(row['from_address'])\n",
    "        if active_accounts_list[row['from_address']] == []:\n",
    "            active_accounts_list[row['from_address']] = [datetime.utcfromtimestamp(row['block_timestamp']).strftime('%Y-%m-%d')]\n",
    "        elif active_accounts_list[row['from_address']] != []:\n",
    "            active_accounts_list[row['from_address']].append(datetime.utcfromtimestamp(row['block_timestamp']).strftime('%Y-%m-%d'))\n",
    "        else:\n",
    "            print(\"ERROR\", index, row)\n",
    "#        print(index, active_accounts_list)\n",
    "       \n",
    "#date_list = set(date_list)\n",
    "#print(date_list, len(date_list))\n",
    "for index, r in active_accounts_list.items():\n",
    "    active_accounts_list[index] = set(r)\n"
   ]
  },
  {
   "cell_type": "code",
   "execution_count": 54,
   "metadata": {},
   "outputs": [
    {
     "name": "stdout",
     "output_type": "stream",
     "text": [
      "0.19017501114227955\n"
     ]
    }
   ],
   "source": [
    "from datetime import timedelta\n",
    "\n",
    "start_date = '2019-03-19'\n",
    "end_date = '2019-05-05'\n",
    "\n",
    "date = start_date\n",
    "retention_list = []\n",
    "\n",
    "while date != end_date:\n",
    "    target_date = (datetime.strptime(date,'%Y-%m-%d') + timedelta(days=1)).strftime('%Y-%m-%d')\n",
    "    start_address = []\n",
    "    end_address = []\n",
    "\n",
    "    for index, value in active_accounts_list.iteritems():\n",
    "        if date in value:\n",
    "            start_address.append(index)\n",
    "        if target_date in value:\n",
    "            end_address.append(index)\n",
    "\n",
    "    if start_address:\n",
    "        retention_list.append(float(len(list(set(start_address).intersection(end_address))))/float(len(start_address)))\n",
    "    else:\n",
    "        retention_list.append(0)\n",
    "        \n",
    "    date = (datetime.strptime(date,'%Y-%m-%d') + timedelta(days=1)).strftime('%Y-%m-%d')\n",
    "        \n",
    "print(numpy.mean(retention_list))\n",
    "    "
   ]
  },
  {
   "cell_type": "code",
   "execution_count": 79,
   "metadata": {},
   "outputs": [
    {
     "data": {
      "text/plain": [
       "0    [0xadd2f28b087afca908a06affcafeb57cecb3de4a, 0...\n",
       "1    [0x90d1e63fd61bedee4447ca9398d0d15cdbd4dd42, 0...\n",
       "2    [0x90d1e63fd61bedee4447ca9398d0d15cdbd4dd42, 0...\n",
       "3    [0xb6d7ffe4446f95e6026ca0d5c6700672fd7cc7a5, 0...\n",
       "4    [0xb6d7ffe4446f95e6026ca0d5c6700672fd7cc7a5, 0...\n",
       "5    [0xdf09dda2982f12c144a932d3d14b7edeace5a984, 0...\n",
       "6    [0xdf09dda2982f12c144a932d3d14b7edeace5a984, 0...\n",
       "dtype: object"
      ]
     },
     "execution_count": 79,
     "metadata": {},
     "output_type": "execute_result"
    }
   ],
   "source": [
    "start_date = '2019-03-19'\n",
    "end_date = '2019-05-05'\n",
    "\n",
    "range_date_list = pd.Series([[]]*7, index=range(0,7))\n",
    "\n",
    "for week in range(0,7):\n",
    "    range_date_list[week] = [(datetime.strptime(start_date,'%Y-%m-%d') + timedelta(days=week*7)).strftime('%Y-%m-%d')]\n",
    "    for day in range(1,7):\n",
    "        range_date_list[week].append((datetime.strptime(start_date,'%Y-%m-%d') + timedelta(days=week*7+day)).strftime('%Y-%m-%d'))\n",
    "    \n",
    "range_address_list = pd.Series([[]]*7, index=range(0,7))\n",
    "    \n",
    "for week in range(0,7):\n",
    "    for index, value in active_accounts_list.iteritems():\n",
    "        if set(range_date_list[week]).intersection(value):\n",
    "            if range_address_list[week]:\n",
    "                range_address_list[week].append(index)\n",
    "            else:\n",
    "                range_address_list[week] = [index]\n",
    "\n",
    "retention_2d = 6*[6*[0]]\n",
    "                \n",
    "for reference_week in range(0,7):\n",
    "    for target_week in range(0,reference_week):\n",
    "        if range_address_list[reference_week]:\n",
    "#            retention_list.append(float(len(list(set(start_address).intersection(end_address))))/float(len(start_address)))\n",
    "        else:\n",
    " #           retention_list.append(0)"
   ]
  },
  {
   "cell_type": "code",
   "execution_count": 88,
   "metadata": {},
   "outputs": [
    {
     "data": {
      "text/plain": [
       "[[0, 0, 0, 0, 0, 0],\n",
       " [0, 0, 0, 0, 0, 0],\n",
       " [0, 0, 0, 0, 0, 0],\n",
       " [0, 0, 0, 0, 0, 0],\n",
       " [0, 0, 0, 0, 0, 0],\n",
       " [0, 0, 0, 0, 0, 0]]"
      ]
     },
     "execution_count": 88,
     "metadata": {},
     "output_type": "execute_result"
    }
   ],
   "source": [
    "a = 6*[6*[0]]\n",
    "a\n"
   ]
  },
  {
   "cell_type": "code",
   "execution_count": null,
   "metadata": {},
   "outputs": [],
   "source": []
  }
 ],
 "metadata": {
  "kernelspec": {
   "display_name": "Python 2",
   "language": "python",
   "name": "python2"
  },
  "language_info": {
   "codemirror_mode": {
    "name": "ipython",
    "version": 2
   },
   "file_extension": ".py",
   "mimetype": "text/x-python",
   "name": "python",
   "nbconvert_exporter": "python",
   "pygments_lexer": "ipython2",
   "version": "2.7.16"
  }
 },
 "nbformat": 4,
 "nbformat_minor": 2
}
