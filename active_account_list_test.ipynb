{
 "cells": [
  {
   "cell_type": "code",
   "execution_count": 1,
   "metadata": {},
   "outputs": [],
   "source": [
    "import pandas as pd\n",
    "import matplotlib.pyplot as plt\n",
    "import numpy as np"
   ]
  },
  {
   "cell_type": "code",
   "execution_count": 49,
   "metadata": {},
   "outputs": [
    {
     "data": {
      "text/plain": [
       "'\\ncontract_address = [\\n\\'0x818E6FECD516Ecc3849DAf6845e3EC868087B755\\',\\n]\\n\\nchunkSize = 1000000\\nchunkNum = 40\\n\\ntransactions_chunk = pd.read_csv(\\'../../transactions.csv\\',sep=\\'\\\\s+|\"\\',engine=\\'python\\',chunksize=chunkSize,skiprows=1,names=[\\'first_Na\\',\\'id\\',\\'hash\\',\\'nonce\\',\\'block_hash\\',\\'block_number\\',\\'transaction_index\\',\\'from_address\\',\\'to_address\\',\\'value\\',\\'gas\\',\\'gas_price\\',\\'input\\',\\'block_timestamp\\',\\'Last_Na\\'],usecols=range(1,14))\\n\\nactive_account_list = []\\n\\ni=0\\nfor chunk in transactions_chunk:\\n    print(chunk[:10][\\'from_address\\'])\\n    if(i>=chunkNum):\\n        break\\n    i+=1\\n            \\n    for contract in contract_address:\\n        for index, row in (chunk.loc[chunk[\\'to_address\\'] == contract])[\\'from_address\\'].iteritems():\\n            active_account_list.append(row)\\n        for index, row in (chunk.loc[chunk[\\'from_address\\'] == contract])[\\'to_address\\'].iteritems():\\n            active_account_list.append(row)\\n    active_account_list = list(set(active_account_list))\\n        \\na = pd.Series(active_account_list)\\na[:10]\\n#a.to_csv(\"active_account_kyber.csv\")\\n'"
      ]
     },
     "execution_count": 49,
     "metadata": {},
     "output_type": "execute_result"
    }
   ],
   "source": [
    "'''\n",
    "contract_address = [\n",
    "'0x818E6FECD516Ecc3849DAf6845e3EC868087B755',\n",
    "]\n",
    "\n",
    "chunkSize = 1000000\n",
    "chunkNum = 40\n",
    "\n",
    "transactions_chunk = pd.read_csv('../../transactions.csv',sep='\\s+|\"',engine='python',chunksize=chunkSize,skiprows=1,names=['first_Na','id','hash','nonce','block_hash','block_number','transaction_index','from_address','to_address','value','gas','gas_price','input','block_timestamp','Last_Na'],usecols=range(1,14))\n",
    "\n",
    "active_account_list = []\n",
    "\n",
    "i=0\n",
    "for chunk in transactions_chunk:\n",
    "    print(chunk[:10]['from_address'])\n",
    "    if(i>=chunkNum):\n",
    "        break\n",
    "    i+=1\n",
    "            \n",
    "    for contract in contract_address:\n",
    "        for index, row in (chunk.loc[chunk['to_address'] == contract])['from_address'].iteritems():\n",
    "            active_account_list.append(row)\n",
    "        for index, row in (chunk.loc[chunk['from_address'] == contract])['to_address'].iteritems():\n",
    "            active_account_list.append(row)\n",
    "    active_account_list = list(set(active_account_list))\n",
    "        \n",
    "a = pd.Series(active_account_list)\n",
    "a[:10]\n",
    "#a.to_csv(\"active_account_kyber.csv\")\n",
    "'''\n"
   ]
  },
  {
   "cell_type": "code",
   "execution_count": 80,
   "metadata": {},
   "outputs": [
    {
     "data": {
      "text/plain": [
       "id                                                   600882\n",
       "from_address     0xb806c4d481d29a73e394a7d22de04ade3d1d4780\n",
       "to_address       0x818e6fecd516ecc3849daf6845e3ec868087b755\n",
       "contract_type                                           dex\n",
       "contract_name                                   kyber proxy\n",
       "tx_count                                                  0\n",
       "Name: 33804, dtype: object"
      ]
     },
     "execution_count": 80,
     "metadata": {},
     "output_type": "execute_result"
    }
   ],
   "source": [
    "active_wallets = pd.read_csv('../../active_wallets_updated.csv',sep=';',engine='python')"
   ]
  },
  {
   "cell_type": "code",
   "execution_count": 98,
   "metadata": {},
   "outputs": [
    {
     "name": "stdout",
     "output_type": "stream",
     "text": [
      "0\n",
      "1\n",
      "2\n",
      "3\n",
      "4\n",
      "5\n",
      "6\n"
     ]
    }
   ],
   "source": [
    "chunkSize = 300000\n",
    "chunkNum = 6\n",
    "\n",
    "transactions_chunk = pd.read_csv('../../transactions.csv',sep='\\s+|\"',engine='python',chunksize=chunkSize,skiprows=1,names=['first_Na','id','hash','nonce','block_hash','block_number','transaction_index','from_address','to_address','value','gas','gas_price','input','block_timestamp','Last_Na'],usecols=range(1,14))\n",
    "\n",
    "gas_price_sum = 0\n",
    "length = 0\n",
    "\n",
    "i=0\n",
    "for chunk in transactions_chunk:\n",
    "    print(i)\n",
    "    if(i>=chunkNum):\n",
    "        break\n",
    "    i+=1\n",
    "\n",
    "    if i == 6:\n",
    "        test = chunk[14347:14481]\n",
    "#    print(chunk.loc[chunk['block_number'] == 7411199])\n",
    "    #id 1514348 ~ 1514482 / 5"
   ]
  },
  {
   "cell_type": "code",
   "execution_count": 114,
   "metadata": {},
   "outputs": [
    {
     "name": "stdout",
     "output_type": "stream",
     "text": [
      "              id                                               hash  nonce  \\\n",
      "1514421  1514422  0x602c3bcd3ea2f0384d03e88336385d696845fe86dfbc...    202   \n",
      "\n",
      "                                                block_hash  block_number  \\\n",
      "1514421  0x0e9ba045f8a2854b7a742305464505ce75f31938dd67...       7411199   \n",
      "\n",
      "         transaction_index                                from_address  \\\n",
      "1514421                 74  0x5bd755e6fe8353952a9e8accec48e0033d1c0153   \n",
      "\n",
      "                                         to_address  value     gas  \\\n",
      "1514421  0x818e6fecd516ecc3849daf6845e3ec868087b755      0  500601   \n",
      "\n",
      "          gas_price                                              input  \\\n",
      "1514421  9000000000  0x29589f6100000000000000000000000005f4a42e251f...   \n",
      "\n",
      "         block_timestamp  \n",
      "1514421     1.553159e+09  \n"
     ]
    }
   ],
   "source": [
    "a = 11\n",
    "test[a*10:(a+1)*10]\n",
    "print(test.loc[test['hash'] == '0x602c3bcd3ea2f0384d03e88336385d696845fe86dfbc2b29f5deb0f892c99364'])"
   ]
  },
  {
   "cell_type": "code",
   "execution_count": 118,
   "metadata": {},
   "outputs": [
    {
     "name": "stdout",
     "output_type": "stream",
     "text": [
      "Empty DataFrame\n",
      "Columns: [id, hash, nonce, block_hash, block_number, transaction_index, from_address, to_address, value, gas, gas_price, input, block_timestamp]\n",
      "Index: []\n",
      "Empty DataFrame\n",
      "Columns: [id, hash, nonce, block_hash, block_number, transaction_index, from_address, to_address, value, gas, gas_price, input, block_timestamp]\n",
      "Index: []\n",
      "              id                                               hash  nonce  \\\n",
      "1514421  1514422  0x602c3bcd3ea2f0384d03e88336385d696845fe86dfbc...    202   \n",
      "\n",
      "                                                block_hash  block_number  \\\n",
      "1514421  0x0e9ba045f8a2854b7a742305464505ce75f31938dd67...       7411199   \n",
      "\n",
      "         transaction_index                                from_address  \\\n",
      "1514421                 74  0x5bd755e6fe8353952a9e8accec48e0033d1c0153   \n",
      "\n",
      "                                         to_address  value     gas  \\\n",
      "1514421  0x818e6fecd516ecc3849daf6845e3ec868087b755      0  500601   \n",
      "\n",
      "          gas_price                                              input  \\\n",
      "1514421  9000000000  0x29589f6100000000000000000000000005f4a42e251f...   \n",
      "\n",
      "         block_timestamp  \n",
      "1514421     1.553159e+09  \n",
      "Empty DataFrame\n",
      "Columns: [id, hash, nonce, block_hash, block_number, transaction_index, from_address, to_address, value, gas, gas_price, input, block_timestamp]\n",
      "Index: []\n",
      "['0x5bd755e6fe8353952a9e8accec48e0033d1c0153']\n"
     ]
    }
   ],
   "source": [
    "contract_address = [\n",
    "'0x818E6FECD516Ecc3849DAf6845e3EC868087B755',\n",
    "'0x818e6fecd516ecc3849daf6845e3ec868087b755'\n",
    "]\n",
    "\n",
    "for contract in contract_address:\n",
    "    for index, row in (test.loc[test['to_address'] == contract])['from_address'].iteritems():\n",
    "        active_account_list.append(row)\n",
    "    for index, row in (test.loc[test['from_address'] == contract])['to_address'].iteritems():\n",
    "        active_account_list.append(row)\n",
    "    print(test.loc[test['to_address'] == contract])\n",
    "    print(test.loc[test['from_address'] == contract])\n",
    "print(active_account_list)"
   ]
  },
  {
   "cell_type": "code",
   "execution_count": 126,
   "metadata": {},
   "outputs": [
    {
     "data": {
      "text/plain": [
       "[3, 3, 4]"
      ]
     },
     "execution_count": 126,
     "metadata": {},
     "output_type": "execute_result"
    }
   ],
   "source": [
    "a=[3]*3\n",
    "a[2] = 4\n",
    "a"
   ]
  },
  {
   "cell_type": "code",
   "execution_count": null,
   "metadata": {},
   "outputs": [],
   "source": []
  }
 ],
 "metadata": {
  "kernelspec": {
   "display_name": "Python 2",
   "language": "python",
   "name": "python2"
  },
  "language_info": {
   "codemirror_mode": {
    "name": "ipython",
    "version": 2
   },
   "file_extension": ".py",
   "mimetype": "text/x-python",
   "name": "python",
   "nbconvert_exporter": "python",
   "pygments_lexer": "ipython2",
   "version": "2.7.16"
  }
 },
 "nbformat": 4,
 "nbformat_minor": 2
}
