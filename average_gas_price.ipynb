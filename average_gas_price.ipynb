{
 "cells": [
  {
   "cell_type": "code",
   "execution_count": 19,
   "metadata": {},
   "outputs": [],
   "source": [
    "import pandas as pd\n",
    "import matplotlib.pyplot as plt\n",
    "import numpy"
   ]
  },
  {
   "cell_type": "code",
   "execution_count": 39,
   "metadata": {},
   "outputs": [
    {
     "name": "stdout",
     "output_type": "stream",
     "text": [
      "(0, 0, 0)\n",
      "(1, 0, 0)\n",
      "('iteration', 1)\n",
      "0\n"
     ]
    },
    {
     "name": "stderr",
     "output_type": "stream",
     "text": [
      "/Users/woody/anaconda2/lib/python2.7/site-packages/ipykernel_launcher.py:28: RuntimeWarning: divide by zero encountered in long_scalars\n"
     ]
    }
   ],
   "source": [
    "contract_address = [\n",
    "'0x964F35fAe36d75B1e72770e244F6595B68508CF5',\n",
    "'0x63825c174ab367968EC60f061753D3bbD36A0D8F',\n",
    "'0x818E6FECD516Ecc3849DAf6845e3EC868087B755'\n",
    "]\n",
    "\n",
    "chunkSize = 100000\n",
    "chunkNum = 1\n",
    "\n",
    "transactions_chunk = pd.read_csv('../../transactions.csv',sep='\\s+|\"',engine='python',chunksize=chunkSize,skiprows=1,names=['first_Na','id','hash','nonce','block_hash','block_number','transaction_index','from_address','to_address','value','gas','gas_price','input','block_timestamp','Last_Na'],usecols=range(1,14))\n",
    "\n",
    "gas_price_sum = 0\n",
    "length = 0\n",
    "\n",
    "i=0\n",
    "for chunk in transactions_chunk:\n",
    "    print(i, gas_price_sum, length)\n",
    "    if(i>=chunkNum):\n",
    "        break\n",
    "    i+=1\n",
    "    for contract in contract_address:\n",
    "        gas_price_sum = gas_price_sum + numpy.sum((chunk.loc[chunk['to_address'] == contract])['gas_price'].astype(int))\n",
    "        length = length + len(chunk.loc[chunk['to_address'] == contract].index)\n",
    "        gas_price_sum = gas_price_sum + numpy.sum((chunk.loc[chunk['from_address'] == contract])['gas_price'].astype(int))\n",
    "        length = length + len(chunk.loc[chunk['from_address'] == contract].index)\n",
    "\n",
    "print('iteration', i)\n",
    "print(gas_price_sum/length)"
   ]
  },
  {
   "cell_type": "code",
   "execution_count": 33,
   "metadata": {},
   "outputs": [
    {
     "data": {
      "image/png": "[encoded data removed]",
      "text/plain": [
       "<Figure size 432x288 with 1 Axes>"
      ]
     },
     "metadata": {
      "needs_background": "light"
     },
     "output_type": "display_data"
    }
   ],
   "source": [
    "\n",
    "objects = ('IDEX', 'MakerDAO', 'ForkDelta', 'Decentraland', 'CryptoKitties')\n",
    "y_pos = numpy.arange(len(objects))\n",
    "performance = [5413484064, 6532569929, 5882123390, 11469721042, 2605700931]\n",
    "\n",
    "plt.bar(y_pos, performance, align='center', alpha=0.9)\n",
    "plt.xticks(y_pos, objects)\n",
    "plt.ylabel('Avg Gas Price')\n",
    "\n",
    "plt.show()"
   ]
  },
  {
   "cell_type": "code",
   "execution_count": null,
   "metadata": {},
   "outputs": [],
   "source": []
  }
 ],
 "metadata": {
  "kernelspec": {
   "display_name": "Python 2",
   "language": "python",
   "name": "python2"
  },
  "language_info": {
   "codemirror_mode": {
    "name": "ipython",
    "version": 2
   },
   "file_extension": ".py",
   "mimetype": "text/x-python",
   "name": "python",
   "nbconvert_exporter": "python",
   "pygments_lexer": "ipython2",
   "version": "2.7.16"
  }
 },
 "nbformat": 4,
 "nbformat_minor": 2
}
