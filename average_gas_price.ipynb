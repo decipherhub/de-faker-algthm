{
 "cells": [
  {
   "cell_type": "code",
   "execution_count": 9,
   "metadata": {},
   "outputs": [],
   "source": [
    "import pandas as pd\n",
    "import matplotlib.pyplot as plt\n",
    "import numpy"
   ]
  },
  {
   "cell_type": "code",
   "execution_count": 10,
   "metadata": {},
   "outputs": [
    {
     "name": "stdout",
     "output_type": "stream",
     "text": [
      "(0, [0, 0, 0], [0, 0, 0])\n",
      "(1, [86686120329018, 7365609573116, 22787346013580], [16013, 1168, 3874])\n",
      "(2, [190007669309487, 18460688549473, 48159860967864], [31937, 2648, 7979])\n",
      "(3, [255842465023861, 26199597338984, 69840521684376], [45311, 3739, 12064])\n",
      "(4, [347713030540631, 36389591398319, 101159900885668], [60036, 5242, 16428])\n",
      "(5, [487255272421393, 50642580237823, 141293194360693], [77581, 6906, 21281])\n",
      "(6, [632759280666441, 60190715897747, 195644346084235], [98427, 8153, 28219])\n",
      "(7, [788329026731102, 69780702645498, 230058780774865], [121990, 9447, 34132])\n",
      "(8, [889659483976395, 77988824612337, 269200839255059], [138595, 10541, 39187])\n",
      "(9, [1061719108202050, 94384849716210, 304478197277322], [157758, 12199, 44045])\n",
      "(10, [1275171802076991, 119085333521337, 347697536588427], [177654, 14364, 49789])\n",
      "(11, [1422355615862180, 130994377532027, 385951079724227], [195736, 15755, 55125])\n",
      "(12, [1517389590363436, 137856213138031, 420968136908102], [212467, 16872, 59445])\n",
      "(13, [1632898491833663, 151308829296657, 450436304470254], [229416, 18673, 63974])\n",
      "(14, [1732780122109290, 161362537193905, 483659470364149], [244107, 20055, 67581])\n",
      "(15, [1835161010822287, 172377929880850, 805368478561763], [258989, 21475, 71010])\n",
      "(16, [1912743313822307, 181549591070155, 822741112072880], [269485, 22687, 73807])\n",
      "(17, [1969595205724536, 189559131608366, 846328621188592], [280509, 24012, 77721])\n",
      "(18, [2039640214840850, 195126489953039, 864844912574674], [292327, 25031, 81040])\n",
      "(19, [2136319598808404, 201185742934228, 886413508791806], [306768, 25998, 84547])\n",
      "(20, [2242646524173930, 209687705177006, 905088225698784], [321511, 27132, 87604])\n",
      "(21, [2314514021713356, 216300546778208, 936790464050058], [336168, 28266, 91895])\n",
      "(22, [2380715586042178, 222987229199388, 953756924458996], [348346, 29257, 95190])\n",
      "(23, [2458533233822902, 228643310543917, 976320805873740], [362852, 30217, 98946])\n",
      "(24, [2542362883822902, 236406229037952, 996135138532803], [377834, 31385, 102580])\n",
      "(25, [2642903586853875, 245190738936034, 1019725537809075], [393848, 32745, 106396])\n",
      "(26, [2703997083584270, 249322488676039, 1036278875947211], [406660, 33473, 109658])\n",
      "(27, [2767462398584268, 253330939696420, 1052771220937930], [420386, 34275, 112911])\n",
      "(28, [2833888077688524, 257954620290678, 1070315320248076], [432425, 35043, 116076])\n",
      "(29, [2918632421657210, 262803944179205, 1094061565460788], [447589, 35752, 119902])\n",
      "(30, [2998078254875341, 268432135156706, 1109414426261788], [462695, 36670, 122937])\n",
      "('iteration', 31)\n",
      "(0, 6461226272)\n",
      "(1, 7307490442)\n",
      "(2, 9000617501)\n"
     ]
    }
   ],
   "source": [
    "IDEX_address = ['0x2a0c0DBEcC7E4D658f48E01e3fA353F44050c208'.lower()]\n",
    "Kyber_address = [\n",
    "'0x964F35fAe36d75B1e72770e244F6595B68508CF5'.lower(),\n",
    "'0x63825c174ab367968EC60f061753D3bbD36A0D8F'.lower(),\n",
    "'0x818E6FECD516Ecc3849DAf6845e3EC868087B755'.lower()\n",
    "]\n",
    "Forkdelta_address = ['0x8d12a197cb00d4747a1fe03395095ce2a5cc6819'.lower()]\n",
    "\n",
    "contract_address = [IDEX_address, Kyber_address, Forkdelta_address]\n",
    "contract_number = 3\n",
    "\n",
    "chunkSize = 1000000\n",
    "chunkNum = 40\n",
    "\n",
    "transactions_chunk = pd.read_csv('../../transactions.csv',sep='\\s+|\"',engine='python',chunksize=chunkSize,skiprows=1,names=['first_Na','id','hash','nonce','block_hash','block_number','transaction_index','from_address','to_address','value','gas','gas_price','input','block_timestamp','Last_Na'],usecols=range(1,14))\n",
    "\n",
    "gas_price_sum = [0]*contract_number\n",
    "length = [0]*contract_number\n",
    "\n",
    "i=0\n",
    "for chunk in transactions_chunk:\n",
    "    \n",
    "    print(i, gas_price_sum, length)\n",
    "    \n",
    "    if(i>=chunkNum):\n",
    "        break\n",
    "    i+=1\n",
    "    \n",
    "    for num in range(0, contract_number):\n",
    "        for contract in contract_address[num]:\n",
    "            gas_price_sum[num] = gas_price_sum[num] + numpy.sum((chunk.loc[chunk['to_address'] == contract])['gas_price'].astype(int))\n",
    "            length[num] = length[num] + len(chunk.loc[chunk['to_address'] == contract].index)\n",
    "            gas_price_sum[num] = gas_price_sum[num] + numpy.sum((chunk.loc[chunk['from_address'] == contract])['gas_price'].astype(int))\n",
    "            length[num] = length[num] + len(chunk.loc[chunk['from_address'] == contract].index)\n",
    "\n",
    "print('iteration', i)\n",
    "for num in range(0, contract_number):\n",
    "    print(num, gas_price_sum[num]/length[num])\n",
    "    "
   ]
  },
  {
   "cell_type": "code",
   "execution_count": 11,
   "metadata": {},
   "outputs": [
    {
     "data": {
      "image/png": "[encoded data removed]",
      "text/plain": [
       "<Figure size 432x288 with 1 Axes>"
      ]
     },
     "metadata": {
      "needs_background": "light"
     },
     "output_type": "display_data"
    }
   ],
   "source": [
    "objects = ('IDEX', 'Kyber', 'ForkDelta')\n",
    "y_pos = numpy.arange(len(objects))\n",
    "performance = [gas_price_sum[0]/length[0], gas_price_sum[1]/length[1], gas_price_sum[2]/length[2]]\n",
    "\n",
    "plt.bar(y_pos, performance, align='center', alpha=0.9)\n",
    "plt.xticks(y_pos, objects)\n",
    "plt.ylabel('Avg Gas Price')\n",
    "\n",
    "plt.show()"
   ]
  },
  {
   "cell_type": "code",
   "execution_count": 13,
   "metadata": {},
   "outputs": [
    {
     "data": {
      "image/png": "[encoded data removed]",
      "text/plain": [
       "<Figure size 432x288 with 1 Axes>"
      ]
     },
     "metadata": {
      "needs_background": "light"
     },
     "output_type": "display_data"
    }
   ],
   "source": [
    "objects = ('IDEX', 'MakerDAO', 'Decentraland', 'CryptoKitties')\n",
    "y_pos = numpy.arange(len(objects))\n",
    "performance = [5413484064, 6532569929, 11469721042, 2605700931]\n",
    "\n",
    "plt.bar(y_pos, performance, align='center', alpha=0.9)\n",
    "plt.xticks(y_pos, objects)\n",
    "plt.ylabel('Avg Gas Price')\n",
    "\n",
    "plt.show()"
   ]
  },
  {
   "cell_type": "code",
   "execution_count": null,
   "metadata": {},
   "outputs": [],
   "source": []
  }
 ],
 "metadata": {
  "kernelspec": {
   "display_name": "Python 2",
   "language": "python",
   "name": "python2"
  },
  "language_info": {
   "codemirror_mode": {
    "name": "ipython",
    "version": 2
   },
   "file_extension": ".py",
   "mimetype": "text/x-python",
   "name": "python",
   "nbconvert_exporter": "python",
   "pygments_lexer": "ipython2",
   "version": "2.7.16"
  }
 },
 "nbformat": 4,
 "nbformat_minor": 2
}
