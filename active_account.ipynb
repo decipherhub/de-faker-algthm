{
 "cells": [
  {
   "cell_type": "code",
   "execution_count": 11,
   "metadata": {},
   "outputs": [],
   "source": [
    "import pandas as pd\n",
    "import matplotlib.pyplot as plt\n",
    "import seaborn as sns\n",
    "import numpy"
   ]
  },
  {
   "cell_type": "code",
   "execution_count": 12,
   "metadata": {},
   "outputs": [
    {
     "data": {
      "text/html": [
       "<div>\n",
       "<style scoped>\n",
       "    .dataframe tbody tr th:only-of-type {\n",
       "        vertical-align: middle;\n",
       "    }\n",
       "\n",
       "    .dataframe tbody tr th {\n",
       "        vertical-align: top;\n",
       "    }\n",
       "\n",
       "    .dataframe thead th {\n",
       "        text-align: right;\n",
       "    }\n",
       "</style>\n",
       "<table border=\"1\" class=\"dataframe\">\n",
       "  <thead>\n",
       "    <tr style=\"text-align: right;\">\n",
       "      <th></th>\n",
       "      <th>id</th>\n",
       "      <th>from_address</th>\n",
       "      <th>to_address</th>\n",
       "      <th>contract_type</th>\n",
       "      <th>contract_name</th>\n",
       "      <th>tx_count</th>\n",
       "    </tr>\n",
       "  </thead>\n",
       "  <tbody>\n",
       "    <tr>\n",
       "      <th>0</th>\n",
       "      <td>13</td>\n",
       "      <td>0xadd2f28b087afca908a06affcafeb57cecb3de4a</td>\n",
       "      <td>0x2a0c0dbecc7e4d658f48e01e3fa353f44050c208</td>\n",
       "      <td>dex</td>\n",
       "      <td>idex</td>\n",
       "      <td>0</td>\n",
       "    </tr>\n",
       "    <tr>\n",
       "      <th>1</th>\n",
       "      <td>18</td>\n",
       "      <td>0xdf09dda2982f12c144a932d3d14b7edeace5a984</td>\n",
       "      <td>0x2a0c0dbecc7e4d658f48e01e3fa353f44050c208</td>\n",
       "      <td>dex</td>\n",
       "      <td>idex</td>\n",
       "      <td>5</td>\n",
       "    </tr>\n",
       "    <tr>\n",
       "      <th>2</th>\n",
       "      <td>20</td>\n",
       "      <td>0xb6d7ffe4446f95e6026ca0d5c6700672fd7cc7a5</td>\n",
       "      <td>0x2a0c0dbecc7e4d658f48e01e3fa353f44050c208</td>\n",
       "      <td>dex</td>\n",
       "      <td>idex</td>\n",
       "      <td>8</td>\n",
       "    </tr>\n",
       "  </tbody>\n",
       "</table>\n",
       "</div>"
      ],
      "text/plain": [
       "   id                                from_address  \\\n",
       "0  13  0xadd2f28b087afca908a06affcafeb57cecb3de4a   \n",
       "1  18  0xdf09dda2982f12c144a932d3d14b7edeace5a984   \n",
       "2  20  0xb6d7ffe4446f95e6026ca0d5c6700672fd7cc7a5   \n",
       "\n",
       "                                   to_address contract_type contract_name  \\\n",
       "0  0x2a0c0dbecc7e4d658f48e01e3fa353f44050c208           dex          idex   \n",
       "1  0x2a0c0dbecc7e4d658f48e01e3fa353f44050c208           dex          idex   \n",
       "2  0x2a0c0dbecc7e4d658f48e01e3fa353f44050c208           dex          idex   \n",
       "\n",
       "   tx_count  \n",
       "0         0  \n",
       "1         5  \n",
       "2         8  "
      ]
     },
     "execution_count": 12,
     "metadata": {},
     "output_type": "execute_result"
    }
   ],
   "source": [
    "active_wallets = pd.read_csv('../../active_wallets.csv',sep=':|\\s+|\"',engine='python',names=['fist_Na','id','from_address','to_address','contract_type','contract_name','tx_count','last_Na'],skiprows=1,usecols=range(1,7))\n",
    "active_wallets[:3]"
   ]
  },
  {
   "cell_type": "code",
   "execution_count": 13,
   "metadata": {},
   "outputs": [],
   "source": [
    "#active_wallets['tx_count'].plot(figsize=(15,10))"
   ]
  },
  {
   "cell_type": "code",
   "execution_count": 14,
   "metadata": {},
   "outputs": [],
   "source": [
    "#plt.hist(active_wallets['tx_count'], color='blue', edgecolor='black', bins=int(180/1))\n",
    "#plt.tight_layout()\n",
    "#plt.show()"
   ]
  },
  {
   "cell_type": "code",
   "execution_count": 15,
   "metadata": {},
   "outputs": [
    {
     "name": "stdout",
     "output_type": "stream",
     "text": [
      "28.8789305302\n"
     ]
    }
   ],
   "source": [
    "print(numpy.mean(active_wallets['tx_count']))"
   ]
  },
  {
   "cell_type": "code",
   "execution_count": 16,
   "metadata": {},
   "outputs": [
    {
     "data": {
      "text/html": [
       "<div>\n",
       "<style scoped>\n",
       "    .dataframe tbody tr th:only-of-type {\n",
       "        vertical-align: middle;\n",
       "    }\n",
       "\n",
       "    .dataframe tbody tr th {\n",
       "        vertical-align: top;\n",
       "    }\n",
       "\n",
       "    .dataframe thead th {\n",
       "        text-align: right;\n",
       "    }\n",
       "</style>\n",
       "<table border=\"1\" class=\"dataframe\">\n",
       "  <thead>\n",
       "    <tr style=\"text-align: right;\">\n",
       "      <th></th>\n",
       "      <th>address</th>\n",
       "      <th>tx_count</th>\n",
       "    </tr>\n",
       "  </thead>\n",
       "  <tbody>\n",
       "    <tr>\n",
       "      <th>0</th>\n",
       "      <td>0xa7a7899d944fe658c4b0a1803bab2f490bd3849e</td>\n",
       "      <td>0</td>\n",
       "    </tr>\n",
       "    <tr>\n",
       "      <th>1</th>\n",
       "      <td>0xadd2f28b087afca908a06affcafeb57cecb3de4a</td>\n",
       "      <td>0</td>\n",
       "    </tr>\n",
       "    <tr>\n",
       "      <th>2</th>\n",
       "      <td>0xdf09dda2982f12c144a932d3d14b7edeace5a984</td>\n",
       "      <td>0</td>\n",
       "    </tr>\n",
       "    <tr>\n",
       "      <th>3</th>\n",
       "      <td>0xb6d7ffe4446f95e6026ca0d5c6700672fd7cc7a5</td>\n",
       "      <td>0</td>\n",
       "    </tr>\n",
       "    <tr>\n",
       "      <th>4</th>\n",
       "      <td>0x90d1e63fd61bedee4447ca9398d0d15cdbd4dd42</td>\n",
       "      <td>0</td>\n",
       "    </tr>\n",
       "    <tr>\n",
       "      <th>5</th>\n",
       "      <td>0x294bce6596bcb9881fa4740aa66d3b9a90a944d9</td>\n",
       "      <td>0</td>\n",
       "    </tr>\n",
       "    <tr>\n",
       "      <th>6</th>\n",
       "      <td>0x523e025e9194daebafa27905be31cfc54538bb08</td>\n",
       "      <td>0</td>\n",
       "    </tr>\n",
       "    <tr>\n",
       "      <th>7</th>\n",
       "      <td>0x71a5aad72f5d1b4ac9dcb2ffe2e4c45ec76a4703</td>\n",
       "      <td>0</td>\n",
       "    </tr>\n",
       "    <tr>\n",
       "      <th>8</th>\n",
       "      <td>0x55844d0fd6f6255e03852a50e3176bcb7e0bab78</td>\n",
       "      <td>0</td>\n",
       "    </tr>\n",
       "    <tr>\n",
       "      <th>9</th>\n",
       "      <td>0x82712846b72fd7fdbd869f5355166934b1ca2749</td>\n",
       "      <td>0</td>\n",
       "    </tr>\n",
       "  </tbody>\n",
       "</table>\n",
       "</div>"
      ],
      "text/plain": [
       "                                      address tx_count\n",
       "0  0xa7a7899d944fe658c4b0a1803bab2f490bd3849e        0\n",
       "1  0xadd2f28b087afca908a06affcafeb57cecb3de4a        0\n",
       "2  0xdf09dda2982f12c144a932d3d14b7edeace5a984        0\n",
       "3  0xb6d7ffe4446f95e6026ca0d5c6700672fd7cc7a5        0\n",
       "4  0x90d1e63fd61bedee4447ca9398d0d15cdbd4dd42        0\n",
       "5  0x294bce6596bcb9881fa4740aa66d3b9a90a944d9        0\n",
       "6  0x523e025e9194daebafa27905be31cfc54538bb08        0\n",
       "7  0x71a5aad72f5d1b4ac9dcb2ffe2e4c45ec76a4703        0\n",
       "8  0x55844d0fd6f6255e03852a50e3176bcb7e0bab78        0\n",
       "9  0x82712846b72fd7fdbd869f5355166934b1ca2749        0"
      ]
     },
     "execution_count": 16,
     "metadata": {},
     "output_type": "execute_result"
    }
   ],
   "source": [
    "chunkSize = 1000\n",
    "chunkNum = 60\n",
    "\n",
    "transactions_chunk = pd.read_csv('../../transactions.csv',sep='\\s+|\"',engine='python',chunksize=chunkSize,skiprows=1,names=['first_Na','id','hash','nonce','block_hash','block_number','transaction_index','from_address','to_address','value','gas','gas_price','input','block_timestamp','Last_Na'],usecols=range(1,14))\n",
    "#print(transactions_chunk.get_chunk(3))\n",
    "\n",
    "transactions_test = pd.read_csv('./transactions.csv',sep=';',engine='python',chunksize=100)\n",
    "\n",
    "active_accounts = pd.DataFrame(columns=['address','tx_count'])\n",
    "\n",
    "i=0\n",
    "for chunk in transactions_chunk:\n",
    "    if(i>=chunkNum):\n",
    "        break\n",
    "    i+=1\n",
    "    \n",
    "    for index, row in chunk.loc[chunk['to_address'] == '0x2a0c0dbecc7e4d658f48e01e3fa353f44050c208'].iterrows():\n",
    "        if len(active_accounts.loc[active_accounts['address'] == row['from_address']]) == 0:\n",
    "            active_accounts = active_accounts.append(pd.DataFrame(data=[[row['from_address'],0]], columns=['address','tx_count']), ignore_index=True)\n",
    "            \n",
    "active_accounts[:10]\n",
    "\n"
   ]
  },
  {
   "cell_type": "code",
   "execution_count": 17,
   "metadata": {},
   "outputs": [
    {
     "data": {
      "text/html": [
       "<div>\n",
       "<style scoped>\n",
       "    .dataframe tbody tr th:only-of-type {\n",
       "        vertical-align: middle;\n",
       "    }\n",
       "\n",
       "    .dataframe tbody tr th {\n",
       "        vertical-align: top;\n",
       "    }\n",
       "\n",
       "    .dataframe thead th {\n",
       "        text-align: right;\n",
       "    }\n",
       "</style>\n",
       "<table border=\"1\" class=\"dataframe\">\n",
       "  <thead>\n",
       "    <tr style=\"text-align: right;\">\n",
       "      <th></th>\n",
       "      <th>address</th>\n",
       "      <th>tx_count</th>\n",
       "    </tr>\n",
       "  </thead>\n",
       "  <tbody>\n",
       "    <tr>\n",
       "      <th>0</th>\n",
       "      <td>0xa7a7899d944fe658c4b0a1803bab2f490bd3849e</td>\n",
       "      <td>1079</td>\n",
       "    </tr>\n",
       "    <tr>\n",
       "      <th>1</th>\n",
       "      <td>0xadd2f28b087afca908a06affcafeb57cecb3de4a</td>\n",
       "      <td>1</td>\n",
       "    </tr>\n",
       "    <tr>\n",
       "      <th>2</th>\n",
       "      <td>0xdf09dda2982f12c144a932d3d14b7edeace5a984</td>\n",
       "      <td>1</td>\n",
       "    </tr>\n",
       "    <tr>\n",
       "      <th>3</th>\n",
       "      <td>0xb6d7ffe4446f95e6026ca0d5c6700672fd7cc7a5</td>\n",
       "      <td>1</td>\n",
       "    </tr>\n",
       "    <tr>\n",
       "      <th>4</th>\n",
       "      <td>0x90d1e63fd61bedee4447ca9398d0d15cdbd4dd42</td>\n",
       "      <td>13</td>\n",
       "    </tr>\n",
       "    <tr>\n",
       "      <th>5</th>\n",
       "      <td>0x294bce6596bcb9881fa4740aa66d3b9a90a944d9</td>\n",
       "      <td>1</td>\n",
       "    </tr>\n",
       "    <tr>\n",
       "      <th>6</th>\n",
       "      <td>0x523e025e9194daebafa27905be31cfc54538bb08</td>\n",
       "      <td>1</td>\n",
       "    </tr>\n",
       "    <tr>\n",
       "      <th>7</th>\n",
       "      <td>0x71a5aad72f5d1b4ac9dcb2ffe2e4c45ec76a4703</td>\n",
       "      <td>3</td>\n",
       "    </tr>\n",
       "    <tr>\n",
       "      <th>8</th>\n",
       "      <td>0x55844d0fd6f6255e03852a50e3176bcb7e0bab78</td>\n",
       "      <td>3</td>\n",
       "    </tr>\n",
       "    <tr>\n",
       "      <th>9</th>\n",
       "      <td>0x82712846b72fd7fdbd869f5355166934b1ca2749</td>\n",
       "      <td>1</td>\n",
       "    </tr>\n",
       "  </tbody>\n",
       "</table>\n",
       "</div>"
      ],
      "text/plain": [
       "                                      address tx_count\n",
       "0  0xa7a7899d944fe658c4b0a1803bab2f490bd3849e     1079\n",
       "1  0xadd2f28b087afca908a06affcafeb57cecb3de4a        1\n",
       "2  0xdf09dda2982f12c144a932d3d14b7edeace5a984        1\n",
       "3  0xb6d7ffe4446f95e6026ca0d5c6700672fd7cc7a5        1\n",
       "4  0x90d1e63fd61bedee4447ca9398d0d15cdbd4dd42       13\n",
       "5  0x294bce6596bcb9881fa4740aa66d3b9a90a944d9        1\n",
       "6  0x523e025e9194daebafa27905be31cfc54538bb08        1\n",
       "7  0x71a5aad72f5d1b4ac9dcb2ffe2e4c45ec76a4703        3\n",
       "8  0x55844d0fd6f6255e03852a50e3176bcb7e0bab78        3\n",
       "9  0x82712846b72fd7fdbd869f5355166934b1ca2749        1"
      ]
     },
     "execution_count": 17,
     "metadata": {},
     "output_type": "execute_result"
    }
   ],
   "source": [
    "transactions_chunk = pd.read_csv('../../transactions.csv',sep='\\s+|\"',engine='python',chunksize=chunkSize,skiprows=1,names=['first_Na','id','hash','nonce','block_hash','block_number','transaction_index','from_address','to_address','value','gas','gas_price','input','block_timestamp','Last_Na'],usecols=range(1,14))\n",
    "\n",
    "i=0\n",
    "for chunk in transactions_chunk:\n",
    "    if(i>=chunkNum):\n",
    "        break\n",
    "    i+=1\n",
    "    \n",
    "    for index, row in active_accounts.iterrows():\n",
    "        row['tx_count'] += len(chunk.loc[chunk['from_address'] == row['address']])\n",
    "        \n",
    "active_accounts[:10]"
   ]
  },
  {
   "cell_type": "code",
   "execution_count": 18,
   "metadata": {},
   "outputs": [],
   "source": [
    "#active_accounts['tx_count'].plot(figsize=(15,10))"
   ]
  },
  {
   "cell_type": "code",
   "execution_count": 19,
   "metadata": {},
   "outputs": [
    {
     "name": "stdout",
     "output_type": "stream",
     "text": [
      "8.88888888888889\n"
     ]
    }
   ],
   "source": [
    "print(numpy.mean(active_accounts['tx_count']))"
   ]
  },
  {
   "cell_type": "code",
   "execution_count": null,
   "metadata": {},
   "outputs": [],
   "source": []
  }
 ],
 "metadata": {
  "kernelspec": {
   "display_name": "Python 2",
   "language": "python",
   "name": "python2"
  },
  "language_info": {
   "codemirror_mode": {
    "name": "ipython",
    "version": 2
   },
   "file_extension": ".py",
   "mimetype": "text/x-python",
   "name": "python",
   "nbconvert_exporter": "python",
   "pygments_lexer": "ipython2",
   "version": "2.7.16"
  }
 },
 "nbformat": 4,
 "nbformat_minor": 2
}
